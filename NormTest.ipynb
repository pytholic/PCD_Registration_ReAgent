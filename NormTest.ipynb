{
 "cells": [
  {
   "cell_type": "code",
   "execution_count": 19,
   "id": "51bc006d",
   "metadata": {},
   "outputs": [],
   "source": [
    "import numpy as np"
   ]
  },
  {
   "cell_type": "code",
   "execution_count": 20,
   "id": "5fe37bb6",
   "metadata": {},
   "outputs": [
    {
     "name": "stdout",
     "output_type": "stream",
     "text": [
      "[-48  17 -79  52  41  87 -17 -37  17   3]\n"
     ]
    }
   ],
   "source": [
    "arr = np.random.randint(-100, 100, size=10)\n",
    "print(arr)"
   ]
  },
  {
   "cell_type": "code",
   "execution_count": 21,
   "id": "88b8196d",
   "metadata": {},
   "outputs": [],
   "source": [
    "norm = np.linalg.norm(arr)\n",
    "arr_norm = arr / norm"
   ]
  },
  {
   "cell_type": "code",
   "execution_count": 22,
   "id": "64290a14",
   "metadata": {},
   "outputs": [
    {
     "data": {
      "text/plain": [
       "array([-0.31827887,  0.11272377, -0.52383398,  0.34480211,  0.27186321,\n",
       "        0.57688046, -0.11272377, -0.24533997,  0.11272377,  0.01989243])"
      ]
     },
     "execution_count": 22,
     "metadata": {},
     "output_type": "execute_result"
    }
   ],
   "source": [
    "arr_norm"
   ]
  },
  {
   "cell_type": "code",
   "execution_count": null,
   "id": "fb756faf",
   "metadata": {},
   "outputs": [],
   "source": []
  }
 ],
 "metadata": {
  "kernelspec": {
   "display_name": "Python 3 (ipykernel)",
   "language": "python",
   "name": "python3"
  },
  "language_info": {
   "codemirror_mode": {
    "name": "ipython",
    "version": 3
   },
   "file_extension": ".py",
   "mimetype": "text/x-python",
   "name": "python",
   "nbconvert_exporter": "python",
   "pygments_lexer": "ipython3",
   "version": "3.6.13"
  }
 },
 "nbformat": 4,
 "nbformat_minor": 5
}
